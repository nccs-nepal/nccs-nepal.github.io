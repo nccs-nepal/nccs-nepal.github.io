{
  "cells": [
    {
      "cell_type": "raw",
      "metadata": {},
      "source": [
        "---\n",
        "title: \"Research\"\n",
        "bibliography: references.bib\n",
        "csl: apa.csl\n",
        "---"
      ],
      "id": "21d4cbd9"
    },
    {
      "cell_type": "markdown",
      "metadata": {},
      "source": [
        "```{css, echo = FALSE}\n",
        ".justify {\n",
        "  text-align: justify !important\n",
        "}\n",
        "```\n",
        "\n",
        "\n",
        "::: {.justify}\n",
        "\n",
        "##### **Cognitive consequences of multilingualism**\n",
        "\n",
        "Knowing two or more languages is associated not only with social skills but is also shown to be beneficial for improved performance in cognitive and academic tasks among children. Nepali society is inherently multicultural and multilingual with XXX languages spoken by yyy ethnic groups in the country. What role does such a sociolinguistic and sociocultural diversity play in moderating the potentially beneficial effect of multilingualism? In this project, we aim to answer this question, primarily focusing multilingual education in primary schools and their effect in academic performance and cognitive skills of high and low proficient L2 and L3 multilingual speakers.\n",
        "\n",
        "Relevant works: @bhandari2020interlocutors, @mishra2019aging, @bhandari2018ms\n",
        "\n",
        "\n",
        "##### **Speech comprehension in adverse listening conditions**\n",
        "\n",
        "See @bhandari2024speechrate, @bhandari2022attention, @bhandari2021graded, @bhandari2022phd\n",
        "\n",
        "##### **Culturally sensitive tool for autism diagnosis**\n",
        "\n",
        "See @bhandari2016autism\n",
        "\n",
        "@lieberoth2021covid\n",
        "\n",
        ":::"
      ],
      "id": "7afdb033"
    }
  ],
  "metadata": {
    "kernelspec": {
      "display_name": "Python 3",
      "language": "python",
      "name": "python3"
    }
  },
  "nbformat": 4,
  "nbformat_minor": 5
}